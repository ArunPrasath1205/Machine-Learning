{
  "nbformat": 4,
  "nbformat_minor": 0,
  "metadata": {
    "colab": {
      "provenance": [],
      "collapsed_sections": [],
      "include_colab_link": true
    },
    "kernelspec": {
      "name": "python3",
      "display_name": "Python 3"
    }
  },
  "cells": [
    {
      "cell_type": "markdown",
      "metadata": {
        "id": "view-in-github",
        "colab_type": "text"
      },
      "source": [
        "<a href=\"https://colab.research.google.com/github/ArunPrasath1205/Machine-Learning/blob/main/Task_01_ML_Introduction_to_Machine_Learning.ipynb\" target=\"_parent\"><img src=\"https://colab.research.google.com/assets/colab-badge.svg\" alt=\"Open In Colab\"/></a>"
      ]
    },
    {
      "cell_type": "markdown",
      "metadata": {
        "id": "Oq9OIkpjU3hr"
      },
      "source": [
        "# <b> Write a detailed blog on the introduction to machine learning wherein you will discuss about ideas of supervised, unsupervised and reinforcement learning. Also elaborate these ideas by expanding upon your understanding of classification, regression and clustering. Also lay down the steps involved in supervised learning. Use relevant and unique examples for discussing each ML technique.</b>"
      ]
    },
    {
      "cell_type": "code",
      "metadata": {
        "id": "p0gkUooyR6Ix"
      },
      "source": [],
      "execution_count": null,
      "outputs": []
    },
    {
      "cell_type": "markdown",
      "source": [
        "https://link.medium.com/0lpbxAfcqtb\n",
        "\n",
        "Blog has been created, kindly click on the link below."
      ],
      "metadata": {
        "id": "mblrvtIQU5RY"
      }
    },
    {
      "cell_type": "code",
      "source": [],
      "metadata": {
        "id": "FmGrBz9RVDR2"
      },
      "execution_count": null,
      "outputs": []
    }
  ]
}